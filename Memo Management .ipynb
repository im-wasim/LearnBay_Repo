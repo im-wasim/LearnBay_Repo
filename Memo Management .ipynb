{
 "cells": [
  {
   "cell_type": "code",
   "execution_count": 11,
   "id": "443bb5e6",
   "metadata": {},
   "outputs": [
    {
     "name": "stdout",
     "output_type": "stream",
     "text": [
      "Help on built-in function print in module builtins:\n",
      "\n",
      "print(...)\n",
      "    print(value, ..., sep=' ', end='\\n', file=sys.stdout, flush=False)\n",
      "    \n",
      "    Prints the values to a stream, or to sys.stdout by default.\n",
      "    Optional keyword arguments:\n",
      "    file:  a file-like object (stream); defaults to the current sys.stdout.\n",
      "    sep:   string inserted between values, default a space.\n",
      "    end:   string appended after the last value, default a newline.\n",
      "    flush: whether to forcibly flush the stream.\n",
      "\n"
     ]
    }
   ],
   "source": [
    "help(print)"
   ]
  },
  {
   "cell_type": "code",
   "execution_count": 15,
   "id": "b03727af",
   "metadata": {
    "scrolled": true
   },
   "outputs": [
    {
     "name": "stdout",
     "output_type": "stream",
     "text": [
      "10 20 30\n",
      "Hello Bye\n"
     ]
    }
   ],
   "source": [
    "print(10, 20, 30)\n",
    "print('Hello', 'Bye')"
   ]
  },
  {
   "cell_type": "code",
   "execution_count": 16,
   "id": "64d759c4",
   "metadata": {},
   "outputs": [
    {
     "name": "stdout",
     "output_type": "stream",
     "text": [
      "10$20$30&Hello%Bye\n"
     ]
    }
   ],
   "source": [
    "print(10, 20, 30, sep='$', end='&')\n",
    "print('Hello', 'Bye', sep='%')"
   ]
  },
  {
   "cell_type": "code",
   "execution_count": 6,
   "id": "219ef555",
   "metadata": {},
   "outputs": [
    {
     "name": "stdout",
     "output_type": "stream",
     "text": [
      "2347462992112\n",
      "1000 2347462992112 1000 None\n"
     ]
    }
   ],
   "source": [
    "a = 1786\n",
    "b = a\n",
    "print(a , id(a),b , print(id(b)))"
   ]
  },
  {
   "cell_type": "code",
   "execution_count": 7,
   "id": "38d765cc",
   "metadata": {},
   "outputs": [
    {
     "name": "stdout",
     "output_type": "stream",
     "text": [
      "2347462992112\n",
      "5000 2347462992272 1000 None\n"
     ]
    }
   ],
   "source": [
    "a = 5000\n",
    "print(a , id(a),b , print(id(b)))"
   ]
  }
 ],
 "metadata": {
  "kernelspec": {
   "display_name": "Python 3 (ipykernel)",
   "language": "python",
   "name": "python3"
  },
  "language_info": {
   "codemirror_mode": {
    "name": "ipython",
    "version": 3
   },
   "file_extension": ".py",
   "mimetype": "text/x-python",
   "name": "python",
   "nbconvert_exporter": "python",
   "pygments_lexer": "ipython3",
   "version": "3.9.13"
  }
 },
 "nbformat": 4,
 "nbformat_minor": 5
}
