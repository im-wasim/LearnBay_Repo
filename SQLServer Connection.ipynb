{
 "cells": [
  {
   "cell_type": "markdown",
   "id": "7fb833b0",
   "metadata": {},
   "source": [
    "######  Importing Libary"
   ]
  },
  {
   "cell_type": "code",
   "execution_count": 7,
   "id": "07ec3319",
   "metadata": {},
   "outputs": [],
   "source": [
    "import pyodbc\n",
    "import pandas as pd"
   ]
  },
  {
   "cell_type": "markdown",
   "id": "cee49dda",
   "metadata": {},
   "source": [
    "###### Step 1: Establish the Python SQL Server Connection\n",
    "The first step of setting up the Python SQL Server Integration requires you to build a connection between Python and the SQL server using the pyodbc.connect function and pass a connection string. The Python MsSQL Connection string will define the DBMS Driver, connection settings, the Server, and a specific Database.\n",
    "\n"
   ]
  },
  {
   "cell_type": "code",
   "execution_count": 4,
   "id": "ba08c8a4",
   "metadata": {},
   "outputs": [],
   "source": [
    "#pyodbc.connect('DRIVER={SQL Server Native Client 11.0};Server = DESKTOP-VG0BM76;Databse = CustomerWareHouse' )\n",
    "\n",
    "cnxn_str = (\"Driver={SQL Server Native Client 11.0};\"\n",
    "            \"Server=DESKTOP-VG0BM76;\"\n",
    "            \"Database=CustomerWareHouse;\"\n",
    "            \"Trusted_Connection=yes;\")\n",
    "cnxn = pyodbc.connect(cnxn_str)\n"
   ]
  },
  {
   "cell_type": "markdown",
   "id": "6f0a20a5",
   "metadata": {},
   "source": [
    "# Step 2: Run an SQL Quer\n",
    "Now, every query that you will perform on the SQL Server will involve a cursor initialization and query execution sequence. Moreover, any changes made inside the SQL Server must also reflect in Python (which is covered in Step3 of Python MS SQL Server Integration).<br>\n",
    "You can initialize a cursor via:"
   ]
  },
  {
   "cell_type": "code",
   "execution_count": 5,
   "id": "32d01071",
   "metadata": {},
   "outputs": [],
   "source": [
    "cursor = cnxn.cursor()"
   ]
  },
  {
   "cell_type": "markdown",
   "id": "f3c2c19c",
   "metadata": {},
   "source": [
    "# Step 3: Extract Query Results to Python\n",
    "To extract your data from SQL Server into Python, you will need the Pandas library. Pandas contain the “read_sql” function which is useful for reading data from SQL into Python. The read_sql requires a query and also the connection instance cnxn to extract the given data as follows:\n",
    "\n"
   ]
  },
  {
   "cell_type": "code",
   "execution_count": 13,
   "id": "61fdef1e",
   "metadata": {},
   "outputs": [
    {
     "name": "stdout",
     "output_type": "stream",
     "text": [
      "    CustomerCode CustomerName  CustomerAmount   SalesDate CountryName  \\\n",
      "0           1001         Shiv            12.0  2010-01-01       India   \n",
      "1           1002         Raju           786.0  2012-02-02       Nepal   \n",
      "2           1003         ajay           400.0  2013-01-01          US   \n",
      "3           1004       Khadak           500.0  2014-03-03       India   \n",
      "4           1005         Sham           700.0  2014-10-05       Nepal   \n",
      "5           1006        Rahul          -100.0  2015-02-03       India   \n",
      "6           1007        Rohit             0.0  2015-05-04          US   \n",
      "7           1008       Sanjay          1240.0  2015-05-05       India   \n",
      "8           1009      Jignesh            12.0  2010-01-01       India   \n",
      "9           1010         Raju            98.0  2012-02-02       Nepal   \n",
      "10          1011      Rajnish           400.0  2013-01-01          US   \n",
      "11          1012       Sukesh           500.0  2014-03-03       India   \n",
      "12          1013       Pradip           700.0  2014-10-05       Nepal   \n",
      "\n",
      "    StatesName ProductName SalesPersonName  \n",
      "0   Maharastra       Shoes            Shiv  \n",
      "1    Kathmandu      Shirts            Raju  \n",
      "2      NewYork       Pants          Khadak  \n",
      "3       Punjab        Toys           Shaam  \n",
      "4    Kathmandu      Shirts            Shiv  \n",
      "5   Maharastra        Toys          Khadak  \n",
      "6      NewYork       Shoes            Raju  \n",
      "7       Punjab        Toys           Shaam  \n",
      "8   Maharastra      Shirts            Raja  \n",
      "9    Kathmandu      Shirts            Raju  \n",
      "10     NewYork        Toys          Khadak  \n",
      "11      Punjab        Toys           Shaam  \n",
      "12   Kathmandu      Shirts            Shiv  \n"
     ]
    },
    {
     "name": "stderr",
     "output_type": "stream",
     "text": [
      "C:\\Users\\HP\\anaconda3\\lib\\site-packages\\pandas\\io\\sql.py:762: UserWarning: pandas only support SQLAlchemy connectable(engine/connection) ordatabase string URI or sqlite3 DBAPI2 connectionother DBAPI2 objects are not tested, please consider using SQLAlchemy\n",
      "  warnings.warn(\n"
     ]
    }
   ],
   "source": [
    "data = pd.read_sql(\"SELECT * FROM Cust_Table\", cnxn)\n",
    "print(data)"
   ]
  }
 ],
 "metadata": {
  "kernelspec": {
   "display_name": "Python 3 (ipykernel)",
   "language": "python",
   "name": "python3"
  },
  "language_info": {
   "codemirror_mode": {
    "name": "ipython",
    "version": 3
   },
   "file_extension": ".py",
   "mimetype": "text/x-python",
   "name": "python",
   "nbconvert_exporter": "python",
   "pygments_lexer": "ipython3",
   "version": "3.9.13"
  }
 },
 "nbformat": 4,
 "nbformat_minor": 5
}
